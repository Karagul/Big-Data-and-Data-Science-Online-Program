{
 "cells": [
  {
   "cell_type": "code",
   "execution_count": 1,
   "metadata": {},
   "outputs": [],
   "source": [
    "#import required library for normal distribution\n",
    "from scipy.stats import norm"
   ]
  },
  {
   "cell_type": "code",
   "execution_count": 3,
   "metadata": {},
   "outputs": [
    {
     "data": {
      "text/plain": [
       "array([-0.32895664, -0.07890062,  0.39079461, -0.61336905,  0.86561584,\n",
       "        1.26134978, -0.66475438, -0.33182911,  2.11092771,  1.2722349 ,\n",
       "       -0.62710707,  0.24600976, -0.67781696, -0.19775713,  1.56913999,\n",
       "       -0.1048506 , -0.04791441, -0.76353947, -0.26587965, -0.06467099])"
      ]
     },
     "execution_count": 3,
     "metadata": {},
     "output_type": "execute_result"
    }
   ],
   "source": [
    "#define 20 random variables for normal distribution\n",
    "norm.rvs(loc=0, scale=1, size=20)"
   ]
  },
  {
   "cell_type": "code",
   "execution_count": 4,
   "metadata": {},
   "outputs": [
    {
     "data": {
      "text/plain": [
       "0.9986501019683699"
      ]
     },
     "execution_count": 4,
     "metadata": {},
     "output_type": "execute_result"
    }
   ],
   "source": [
    "#perform Cumulative Distribution Function or CDF for 10 random variables, loc=1 and scale 3\n",
    "norm.cdf(10,loc=1,scale=3)"
   ]
  },
  {
   "cell_type": "code",
   "execution_count": 6,
   "metadata": {},
   "outputs": [
    {
     "data": {
      "text/plain": [
       "7.998827757006813e-38"
      ]
     },
     "execution_count": 6,
     "metadata": {},
     "output_type": "execute_result"
    }
   ],
   "source": [
    "#perform Probability Density Function or PDF for 14 random variables, loc=1 and scale 1\n",
    "norm.pdf(14,loc=1,scale=1)"
   ]
  }
 ],
 "metadata": {
  "kernelspec": {
   "display_name": "Python 3",
   "language": "python",
   "name": "python3"
  },
  "language_info": {
   "codemirror_mode": {
    "name": "ipython",
    "version": 3
   },
   "file_extension": ".py",
   "mimetype": "text/x-python",
   "name": "python",
   "nbconvert_exporter": "python",
   "pygments_lexer": "ipython3",
   "version": "3.6.5"
  }
 },
 "nbformat": 4,
 "nbformat_minor": 2
}
