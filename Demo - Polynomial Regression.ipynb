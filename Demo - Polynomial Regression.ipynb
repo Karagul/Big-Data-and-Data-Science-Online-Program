{
 "cells": [
  {
   "cell_type": "code",
   "execution_count": 1,
   "metadata": {},
   "outputs": [],
   "source": [
    "#First step to write the python program is to take benefit out of libraries already available. We will only focus on the data science related libraries\n",
    "import numpy as np\n",
    "import matplotlib.pyplot as plt\n",
    "import pandas as pd"
   ]
  },
  {
   "cell_type": "code",
   "execution_count": 2,
   "metadata": {},
   "outputs": [],
   "source": [
    "#import data from the data file. In our case its Insurance.csv\n",
    "insuranceData = pd.read_csv('W:\\Ckalib.Nelson\\Duke BDA Program\\Mandatory Courses\\Machine Learning\\hands-on-assignment - with ipynb files\\Datasets for hands-on assignments\\Chapter 2 - Techniques of ML\\Regression\\PolynomialR\\Insurance.csv')"
   ]
  },
  {
   "cell_type": "code",
   "execution_count": 4,
   "metadata": {},
   "outputs": [],
   "source": [
    "#All mathematical operations will be performed on the matrix, so now we create matrix for dependent variables and independent variables\n",
    "X = insuranceData.iloc [:,0:1].values\n",
    "y = insuranceData.iloc [:,1].values"
   ]
  },
  {
   "cell_type": "code",
   "execution_count": 5,
   "metadata": {},
   "outputs": [
    {
     "data": {
      "text/html": [
       "<div>\n",
       "<style scoped>\n",
       "    .dataframe tbody tr th:only-of-type {\n",
       "        vertical-align: middle;\n",
       "    }\n",
       "\n",
       "    .dataframe tbody tr th {\n",
       "        vertical-align: top;\n",
       "    }\n",
       "\n",
       "    .dataframe thead th {\n",
       "        text-align: right;\n",
       "    }\n",
       "</style>\n",
       "<table border=\"1\" class=\"dataframe\">\n",
       "  <thead>\n",
       "    <tr style=\"text-align: right;\">\n",
       "      <th></th>\n",
       "      <th>Age</th>\n",
       "      <th>Average Claims per Year (Rupees)</th>\n",
       "    </tr>\n",
       "  </thead>\n",
       "  <tbody>\n",
       "    <tr>\n",
       "      <th>0</th>\n",
       "      <td>25</td>\n",
       "      <td>4500</td>\n",
       "    </tr>\n",
       "    <tr>\n",
       "      <th>1</th>\n",
       "      <td>30</td>\n",
       "      <td>5000</td>\n",
       "    </tr>\n",
       "    <tr>\n",
       "      <th>2</th>\n",
       "      <td>35</td>\n",
       "      <td>6000</td>\n",
       "    </tr>\n",
       "    <tr>\n",
       "      <th>3</th>\n",
       "      <td>40</td>\n",
       "      <td>8000</td>\n",
       "    </tr>\n",
       "    <tr>\n",
       "      <th>4</th>\n",
       "      <td>45</td>\n",
       "      <td>11000</td>\n",
       "    </tr>\n",
       "  </tbody>\n",
       "</table>\n",
       "</div>"
      ],
      "text/plain": [
       "   Age  Average Claims per Year (Rupees)\n",
       "0   25                              4500\n",
       "1   30                              5000\n",
       "2   35                              6000\n",
       "3   40                              8000\n",
       "4   45                             11000"
      ]
     },
     "execution_count": 5,
     "metadata": {},
     "output_type": "execute_result"
    }
   ],
   "source": [
    "#View first five results\n",
    "insuranceData.head()"
   ]
  },
  {
   "cell_type": "code",
   "execution_count": 6,
   "metadata": {},
   "outputs": [
    {
     "data": {
      "text/plain": [
       "LinearRegression(copy_X=True, fit_intercept=True, n_jobs=1, normalize=False)"
      ]
     },
     "execution_count": 6,
     "metadata": {},
     "output_type": "execute_result"
    }
   ],
   "source": [
    "#let us first fit data with Linear regression to see the comparison later\n",
    "\n",
    "from sklearn.linear_model import LinearRegression\n",
    "linregressor = LinearRegression()\n",
    "linregressor.fit(X, y)"
   ]
  },
  {
   "cell_type": "code",
   "execution_count": 7,
   "metadata": {},
   "outputs": [
    {
     "data": {
      "text/plain": [
       "LinearRegression(copy_X=True, fit_intercept=True, n_jobs=1, normalize=False)"
      ]
     },
     "execution_count": 7,
     "metadata": {},
     "output_type": "execute_result"
    }
   ],
   "source": [
    "#Now fit the polynomial regressor. First we will use degree 2 and later higher\n",
    "#If one changes the degree from 2 to 3 or higher, a higher tendency to overfit is seen\n",
    "\n",
    "from sklearn.preprocessing import PolynomialFeatures #Features\n",
    "\n",
    "#First create a polynomial\n",
    "polyfeature = PolynomialFeatures(degree = 3)\n",
    "Poly_Matrix = polyfeature.fit_transform(X)\n",
    "\n",
    "#Now fitt the polynomial matrix into lienar regress\n",
    "linregressor2 = LinearRegression()\n",
    "linregressor2.fit(Poly_Matrix, y)"
   ]
  },
  {
   "cell_type": "code",
   "execution_count": 12,
   "metadata": {},
   "outputs": [
    {
     "data": {
      "image/png": "[encoded data removed]",
      "text/plain": [
       "<Figure size 432x288 with 1 Axes>"
      ]
     },
     "metadata": {},
     "output_type": "display_data"
    }
   ],
   "source": [
    "#Visualizing the Linear Regression results\n",
    "plt.scatter(X, y, color = 'red')\n",
    "plt.plot(X, linregressor.predict(X), color = 'blue')\n",
    "plt.title('Insurance Premium - Linear')\n",
    "plt.xlabel('Age')\n",
    "plt.ylabel('Premium')\n",
    "plt.show()"
   ]
  },
  {
   "cell_type": "code",
   "execution_count": 14,
   "metadata": {},
   "outputs": [
    {
     "data": {
      "image/png": "[encoded data removed]",
      "text/plain": [
       "<Figure size 432x288 with 1 Axes>"
      ]
     },
     "metadata": {},
     "output_type": "display_data"
    }
   ],
   "source": [
    "#Visualziing the Polynomail Regression results\n",
    "plt.scatter(X, y, color = 'red')\n",
    "plt.plot(X, linregressor2.predict(polyfeature.fit_transform(X)), color = 'green')\n",
    "plt.title('Insurance Premium - Polynomial')\n",
    "plt.xlabel('Age')\n",
    "plt.ylabel('Premium')\n",
    "plt.show()\n",
    "#Line is better fit"
   ]
  },
  {
   "cell_type": "code",
   "execution_count": 16,
   "metadata": {},
   "outputs": [
    {
     "name": "stdout",
     "output_type": "stream",
     "text": [
      "linear prediction =  [58110.3030303]\n",
      "polynomial prediction =  [78392.65268074]\n"
     ]
    },
    {
     "data": {
      "text/plain": [
       "Text(0.5,1,'Insurance Premium - Test with Linear')"
      ]
     },
     "execution_count": 16,
     "metadata": {},
     "output_type": "execute_result"
    },
    {
     "data": {
      "image/png": "[encoded data removed]",
      "text/plain": [
       "<Figure size 432x288 with 1 Axes>"
      ]
     },
     "metadata": {},
     "output_type": "display_data"
    }
   ],
   "source": [
    "#Now see how accurately polynomial and linear regressor predict premium based on age\n",
    "val = 68\n",
    "predictionlinear = linregressor.predict(val)\n",
    "predictionPoly = linregressor2.predict (polyfeature.fit_transform(val))\n",
    "\n",
    "print(\"linear prediction = \", predictionlinear)\n",
    "print(\"polynomial prediction = \", predictionPoly)\n",
    "\n",
    "#Visualizing the Linear Regression results\n",
    "plt.scatter(val, predictionlinear, color = 'red')\n",
    "plt.plot(X, linregressor.predict(X), color = 'blue')\n",
    "plt.title('Insurance Premium - Test with Linear')"
   ]
  },
  {
   "cell_type": "code",
   "execution_count": 17,
   "metadata": {},
   "outputs": [
    {
     "data": {
      "text/plain": [
       "0.9812097727913365"
      ]
     },
     "execution_count": 17,
     "metadata": {},
     "output_type": "execute_result"
    }
   ],
   "source": [
    "#Score\n",
    "linregressor.score(X,y)\n",
    "linregressor2.score(Poly_Matrix,y)"
   ]
  }
 ],
 "metadata": {
  "kernelspec": {
   "display_name": "Python 3",
   "language": "python",
   "name": "python3"
  },
  "language_info": {
   "codemirror_mode": {
    "name": "ipython",
    "version": 3
   },
   "file_extension": ".py",
   "mimetype": "text/x-python",
   "name": "python",
   "nbconvert_exporter": "python",
   "pygments_lexer": "ipython3",
   "version": "3.6.5"
  }
 },
 "nbformat": 4,
 "nbformat_minor": 2
}
