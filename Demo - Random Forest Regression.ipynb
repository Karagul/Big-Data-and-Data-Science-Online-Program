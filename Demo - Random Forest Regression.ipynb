{
 "cells": [
  {
   "cell_type": "code",
   "execution_count": 1,
   "metadata": {},
   "outputs": [],
   "source": [
    "#First step to write the python program is to take benefit out of libraries already available. We will only focus on the data science related libraries\n",
    "import numpy as np\n",
    "import matplotlib.pyplot as plt\n",
    "import pandas as pd"
   ]
  },
  {
   "cell_type": "code",
   "execution_count": 2,
   "metadata": {},
   "outputs": [],
   "source": [
    "#import data from the data file. In our case its Insurance.csv\n",
    "insuranceData = pd.read_csv('W:\\Ckalib.Nelson\\Duke BDA Program\\Mandatory Courses\\Machine Learning\\hands-on-assignment - with ipynb files\\Datasets for hands-on assignments\\Chapter 2 - Techniques of ML\\Regression\\PolynomialR\\Insurance.csv')"
   ]
  },
  {
   "cell_type": "code",
   "execution_count": 3,
   "metadata": {},
   "outputs": [],
   "source": [
    "#All mathematical operations will be performed on the matrix, so now we create matrix for dependent variables and independent variables\n",
    "X = insuranceData.iloc [:,0:1].values\n",
    "y = insuranceData.iloc [:,1].values"
   ]
  },
  {
   "cell_type": "code",
   "execution_count": 4,
   "metadata": {},
   "outputs": [
    {
     "data": {
      "text/plain": [
       "RandomForestRegressor(bootstrap=True, criterion='mse', max_depth=None,\n",
       "           max_features='auto', max_leaf_nodes=None,\n",
       "           min_impurity_decrease=0.0, min_impurity_split=None,\n",
       "           min_samples_leaf=1, min_samples_split=2,\n",
       "           min_weight_fraction_leaf=0.0, n_estimators=10, n_jobs=1,\n",
       "           oob_score=False, random_state=0, verbose=0, warm_start=False)"
      ]
     },
     "execution_count": 4,
     "metadata": {},
     "output_type": "execute_result"
    }
   ],
   "source": [
    "#Fit our data on Random Forest Regressor. Will start from 10 trees and will go to higher number of trees to see the changes\n",
    "from sklearn.ensemble import RandomForestRegressor\n",
    "RFregressor = RandomForestRegressor(n_estimators = 10, random_state = 0)\n",
    "RFregressor.fit(X, y)"
   ]
  },
  {
   "cell_type": "code",
   "execution_count": 6,
   "metadata": {},
   "outputs": [
    {
     "data": {
      "image/png": "[encoded data removed]",
      "text/plain": [
       "<Figure size 432x288 with 1 Axes>"
      ]
     },
     "metadata": {},
     "output_type": "display_data"
    }
   ],
   "source": [
    "#Visualizing the Regression results\n",
    "plt.scatter(X, y, color = 'red')\n",
    "plt.plot(X, RFregressor.predict(X), color = 'blue')\n",
    "plt.title('Insurance Premium - Linear')\n",
    "plt.xlabel('Age')\n",
    "plt.ylabel('Premium')\n",
    "plt.show()"
   ]
  },
  {
   "cell_type": "code",
   "execution_count": 7,
   "metadata": {},
   "outputs": [
    {
     "name": "stdout",
     "output_type": "stream",
     "text": [
      "RF prediction =  [7400.]\n"
     ]
    }
   ],
   "source": [
    "#Now see how accurately random forest regressor predict claims based on age. Here values will be only exactdly from the y array for certain range of values as we are taking average\n",
    "val = 40\n",
    "predictionRF = RFregressor.predict(val)\n",
    "\n",
    "print(\"RF prediction = \", predictionRF)"
   ]
  }
 ],
 "metadata": {
  "kernelspec": {
   "display_name": "Python 3",
   "language": "python",
   "name": "python3"
  },
  "language_info": {
   "codemirror_mode": {
    "name": "ipython",
    "version": 3
   },
   "file_extension": ".py",
   "mimetype": "text/x-python",
   "name": "python",
   "nbconvert_exporter": "python",
   "pygments_lexer": "ipython3",
   "version": "3.6.5"
  }
 },
 "nbformat": 4,
 "nbformat_minor": 2
}
