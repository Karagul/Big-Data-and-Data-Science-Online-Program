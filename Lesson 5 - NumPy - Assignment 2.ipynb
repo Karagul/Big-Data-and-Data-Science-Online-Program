{
 "cells": [
  {
   "cell_type": "code",
   "execution_count": 1,
   "metadata": {},
   "outputs": [],
   "source": [
    "#import necessary libraries\n",
    "import numpy as np\n",
    "\n",
    "#Dataset from summer Olympic London, year 2012\n",
    "np_olympic_country = np.array(['Great Britain',\n",
    "'China ',\n",
    "'Russia',\n",
    "'United States',\n",
    "'Korea',\n",
    "'Japan',\n",
    "'Germany'\n",
    "])\n",
    "np_olympic_country_code = np.array(['GBR',\n",
    "'CHN',\n",
    "'RUS',\n",
    "'US',\n",
    "'KOR',\n",
    "'JPN',\n",
    "'GER'\n",
    "])\n",
    "np_olympic_country_Gold = np.array([29,\n",
    "38,\n",
    "24,\n",
    "46,\n",
    "13,\n",
    "7,\n",
    "11\n",
    "])\n",
    "np_olympic_country_Silver = np.array([17,\n",
    "28,\n",
    "25,\n",
    "28,\n",
    "8,\n",
    "14,\n",
    "11\n",
    "])\n",
    "np_olympic_country_Bronze = np.array([19,\n",
    "22,\n",
    "32,\n",
    "29,\n",
    "7,\n",
    "17,\n",
    "14,])\n"
   ]
  },
  {
   "cell_type": "code",
   "execution_count": 10,
   "metadata": {},
   "outputs": [
    {
     "name": "stdout",
     "output_type": "stream",
     "text": [
      "3\n",
      "United States\n"
     ]
    }
   ],
   "source": [
    "#Find and print the name of the country that won maximum gold medals\n",
    "max_gold_index = np_olympic_country_Gold.argmax()\n",
    "print(max_gold_index)\n",
    "country_with_max_gold = np_olympic_country[max_gold_index]\n",
    "print(country_with_max_gold)"
   ]
  },
  {
   "cell_type": "code",
   "execution_count": 16,
   "metadata": {},
   "outputs": [
    {
     "name": "stdout",
     "output_type": "stream",
     "text": [
      "['Great Britain' 'China ' 'Russia' 'United States']\n"
     ]
    }
   ],
   "source": [
    "#Find and print the countries who won more than 20 gold medals\n",
    "print(np_olympic_country[np_olympic_country_Gold>20])"
   ]
  },
  {
   "cell_type": "code",
   "execution_count": 18,
   "metadata": {},
   "outputs": [
    {
     "name": "stdout",
     "output_type": "stream",
     "text": [
      "Great Britain, gold medal 29, Total medals 65\n",
      "China , gold medal 38, Total medals 88\n",
      "Russia, gold medal 24, Total medals 81\n",
      "United States, gold medal 46, Total medals 103\n",
      "Korea, gold medal 13, Total medals 28\n",
      "Japan, gold medal 7, Total medals 38\n",
      "Germany, gold medal 11, Total medals 36\n"
     ]
    }
   ],
   "source": [
    "#Print each country name with the corresponding number of gold medals\n",
    "#Print each country name with the total number of medals won\n",
    "for i in range(len(np_olympic_country)):\n",
    "    gold_medal = np_olympic_country_Gold[i]\n",
    "    country = np_olympic_country[i]\n",
    "    total_medal = np_olympic_country_Bronze[i]+np_olympic_country_Gold[i]+np_olympic_country_Silver[i]\n",
    "    print('{}, gold medal {}, Total medals {}'.format(country,gold_medal,total_medal))"
   ]
  }
 ],
 "metadata": {
  "kernelspec": {
   "display_name": "Python 3",
   "language": "python",
   "name": "python3"
  },
  "language_info": {
   "codemirror_mode": {
    "name": "ipython",
    "version": 3
   },
   "file_extension": ".py",
   "mimetype": "text/x-python",
   "name": "python",
   "nbconvert_exporter": "python",
   "pygments_lexer": "ipython3",
   "version": "3.6.5"
  }
 },
 "nbformat": 4,
 "nbformat_minor": 2
}
